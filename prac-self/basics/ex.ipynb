{
 "cells": [
  {
   "cell_type": "code",
   "execution_count": null,
   "metadata": {},
   "outputs": [],
   "source": [
    "# shallow copy via copy package"
   ]
  },
  {
   "cell_type": "code",
   "execution_count": 9,
   "metadata": {},
   "outputs": [
    {
     "name": "stdout",
     "output_type": "stream",
     "text": [
      "[[1, 2, 3], [11, 5, 6]] [[1, 2, 3], [11, 5, 6]] [[1, 2, 3], [11, 5, 6]]\n"
     ]
    }
   ],
   "source": [
    "# https://stackoverflow.com/questions/17873384/how-to-deep-copy-a-list\n",
    "# shallow copies\n",
    "import copy\n",
    "a = [[1, 2, 3], [4, 5, 6]]\n",
    "b = list(a) # shallow copy way 1\n",
    "c = a[:]    # shallow copy way 2\n",
    "d = copy.copy(a)# shallow copy way 3\n",
    "\n",
    "a[1][0] = 11\n",
    "print(b, c, d) # all got changed"
   ]
  },
  {
   "cell_type": "code",
   "execution_count": 5,
   "metadata": {},
   "outputs": [
    {
     "name": "stdout",
     "output_type": "stream",
     "text": [
      "[5, 7, 3, 1, 0, 8]\n",
      "[[1, 2, 3], ['a', 'b'], ['c', 'd', 'e']]\n",
      "[[1, 2, 3], {'a': 0, 'b': {'ba': 11, 'bb': 12}}, {'c': 2, 'd': 3, 'e': {'ea': 1, 'eb': 2}}]\n"
     ]
    }
   ],
   "source": [
    "# deep copy for single and two dimension w/o using copy package\n",
    "old_list = [5, 7, 3, 1, 0, 8]\n",
    "old_grid = [[1, 2, 3], { \"a\": 0, \"b\": { \"ba\": 11, \"bb\": 12}}, { \"c\": 2, \"d\": 3, \"e\": {\"ea\": 1, \"eb\": 2}}]\n",
    "new_list = [i for i in old_list]\n",
    "new_grid = [[i for i in row] for row in old_grid]\n",
    "new_list[1] = 11\n",
    "print(old_list) # old single dim list not changed\n",
    "print(new_grid) # copies upto two dimension\n",
    "# new_grid[1][\"b\"][\"bb\"] = 22\n",
    "print(old_grid)"
   ]
  },
  {
   "cell_type": "code",
   "execution_count": 7,
   "metadata": {},
   "outputs": [
    {
     "name": "stdout",
     "output_type": "stream",
     "text": [
      "[[1, 2, 3], {'a': 0, 'b': 9}, {'c': 2, 'd': 3, 'e': {'ea': 1, 'eb': 2}}]\n",
      "[[1, 2, 3], {'a': 0, 'b': {'ba': 11, 'bb': 12}}, {'c': 2, 'd': 3, 'e': {'ea': 555, 'eb': 2}}]\n"
     ]
    }
   ],
   "source": [
    "# deep copies 1\n",
    "import copy\n",
    "a = [[1, 2, 3], { \"a\": 0, \"b\": { \"ba\": 11, \"bb\": 12}}, { \"c\": 2, \"d\": 3, \"e\": {\"ea\": 1, \"eb\": 2}}]\n",
    "b = copy.deepcopy(a)\n",
    "a[1]['b'] = 9\n",
    "b[2]['e']['ea'] = 555\n",
    "print(a)    \n",
    "print(b)    # b doesn't change -> Deep Copy\n"
   ]
  }
 ],
 "metadata": {
  "kernelspec": {
   "display_name": "Python 3",
   "language": "python",
   "name": "python3"
  },
  "language_info": {
   "codemirror_mode": {
    "name": "ipython",
    "version": 3
   },
   "file_extension": ".py",
   "mimetype": "text/x-python",
   "name": "python",
   "nbconvert_exporter": "python",
   "pygments_lexer": "ipython3",
   "version": "3.12.3"
  }
 },
 "nbformat": 4,
 "nbformat_minor": 2
}
